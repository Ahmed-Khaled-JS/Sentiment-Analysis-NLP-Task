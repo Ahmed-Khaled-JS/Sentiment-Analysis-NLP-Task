{
  "nbformat": 4,
  "nbformat_minor": 0,
  "metadata": {
    "colab": {
      "provenance": [],
      "authorship_tag": "ABX9TyOETkZaS8R4RiIhctaKOfOx",
      "include_colab_link": true
    },
    "kernelspec": {
      "name": "python3",
      "display_name": "Python 3"
    },
    "language_info": {
      "name": "python"
    }
  },
  "cells": [
    {
      "cell_type": "markdown",
      "metadata": {
        "id": "view-in-github",
        "colab_type": "text"
      },
      "source": [
        "<a href=\"https://colab.research.google.com/github/Ahmed-Khaled-JS/Sentiment-Analysis-NLP-Task/blob/main/Sentiment_analysis_nlp_task.ipynb\" target=\"_parent\"><img src=\"https://colab.research.google.com/assets/colab-badge.svg\" alt=\"Open In Colab\"/></a>"
      ]
    },
    {
      "cell_type": "code",
      "execution_count": 14,
      "metadata": {
        "id": "FdULgEhcPB7M"
      },
      "outputs": [],
      "source": [
        "import tensorflow as tf\n",
        "from tensorflow import keras\n",
        "from tensorflow.keras.preprocessing.sequence import pad_sequences\n",
        "from tensorflow.keras.models import Sequential\n",
        "from tensorflow.keras.layers import Embedding, SimpleRNN, LSTM, GRU, Dense\n",
        "import matplotlib.pyplot as plt\n",
        "from tensorflow.keras.preprocessing.text import text_to_word_sequence"
      ]
    },
    {
      "cell_type": "code",
      "source": [
        "max_words = 10000\n",
        "max_len = 200\n",
        "(x_train, y_train), (x_test, y_test) = keras.datasets.imdb.load_data(num_words=max_words)\n",
        "word_index = keras.datasets.imdb.get_word_index()\n",
        "word_index = {k: (v + 3) for k, v in word_index.items()}  # Adjust indices\n",
        "word_index[\"<PAD>\"] = 0\n",
        "word_index[\"<START>\"] = 1\n",
        "word_index[\"<UNK>\"] = 2\n",
        "word_index[\"<UNUSED>\"] = 3\n",
        "reverse_word_index = {v: k for k, v in word_index.items()}\n"
      ],
      "metadata": {
        "colab": {
          "base_uri": "https://localhost:8080/"
        },
        "id": "uW5KScywQCPa",
        "outputId": "78b88927-e2a0-4726-b54f-8eca6f1ff349"
      },
      "execution_count": 20,
      "outputs": [
        {
          "output_type": "stream",
          "name": "stdout",
          "text": [
            "Downloading data from https://storage.googleapis.com/tensorflow/tf-keras-datasets/imdb_word_index.json\n",
            "\u001b[1m1641221/1641221\u001b[0m \u001b[32m━━━━━━━━━━━━━━━━━━━━\u001b[0m\u001b[37m\u001b[0m \u001b[1m0s\u001b[0m 0us/step\n"
          ]
        }
      ]
    },
    {
      "cell_type": "code",
      "source": [
        "x_train = pad_sequences(x_train, maxlen=max_len, padding=\"post\")\n",
        "x_test = pad_sequences(x_test, maxlen=max_len, padding=\"post\")"
      ],
      "metadata": {
        "id": "ktSslBpHQP6K"
      },
      "execution_count": 3,
      "outputs": []
    },
    {
      "cell_type": "code",
      "source": [
        "def create_model(model_type=\"RNN\"):\n",
        "    model = Sequential()\n",
        "    model.add(Embedding(input_dim=max_words, output_dim=128, input_length=max_len))\n",
        "\n",
        "    if model_type == \"RNN\":\n",
        "        model.add(SimpleRNN(64, return_sequences=False))\n",
        "    elif model_type == \"LSTM\":\n",
        "        model.add(LSTM(64, return_sequences=False))\n",
        "    elif model_type == \"GRU\":\n",
        "        model.add(GRU(64, return_sequences=False))\n",
        "\n",
        "    model.add(Dense(1, activation=\"sigmoid\"))\n",
        "\n",
        "    model.compile(optimizer=\"adam\", loss=\"binary_crossentropy\", metrics=[\"accuracy\"])\n",
        "    return model"
      ],
      "metadata": {
        "id": "d2pV-XbuQUOn"
      },
      "execution_count": 7,
      "outputs": []
    },
    {
      "cell_type": "code",
      "source": [
        "model = create_model(\"LSTM\")\n",
        "model.fit(x_train, y_train, epochs=5, batch_size=64, validation_data=(x_test, y_test))\n"
      ],
      "metadata": {
        "colab": {
          "base_uri": "https://localhost:8080/"
        },
        "id": "pDfzZLMaQgIg",
        "outputId": "47b6301f-686e-4008-c230-3afd15a680e5"
      },
      "execution_count": 8,
      "outputs": [
        {
          "output_type": "stream",
          "name": "stdout",
          "text": [
            "Epoch 1/5\n",
            "\u001b[1m391/391\u001b[0m \u001b[32m━━━━━━━━━━━━━━━━━━━━\u001b[0m\u001b[37m\u001b[0m \u001b[1m158s\u001b[0m 395ms/step - accuracy: 0.5410 - loss: 0.6780 - val_accuracy: 0.6928 - val_loss: 0.5795\n",
            "Epoch 2/5\n",
            "\u001b[1m391/391\u001b[0m \u001b[32m━━━━━━━━━━━━━━━━━━━━\u001b[0m\u001b[37m\u001b[0m \u001b[1m202s\u001b[0m 396ms/step - accuracy: 0.7028 - loss: 0.5410 - val_accuracy: 0.8427 - val_loss: 0.3931\n",
            "Epoch 3/5\n",
            "\u001b[1m391/391\u001b[0m \u001b[32m━━━━━━━━━━━━━━━━━━━━\u001b[0m\u001b[37m\u001b[0m \u001b[1m201s\u001b[0m 394ms/step - accuracy: 0.8798 - loss: 0.3084 - val_accuracy: 0.8571 - val_loss: 0.3582\n",
            "Epoch 4/5\n",
            "\u001b[1m391/391\u001b[0m \u001b[32m━━━━━━━━━━━━━━━━━━━━\u001b[0m\u001b[37m\u001b[0m \u001b[1m201s\u001b[0m 392ms/step - accuracy: 0.9164 - loss: 0.2218 - val_accuracy: 0.8700 - val_loss: 0.3148\n",
            "Epoch 5/5\n",
            "\u001b[1m391/391\u001b[0m \u001b[32m━━━━━━━━━━━━━━━━━━━━\u001b[0m\u001b[37m\u001b[0m \u001b[1m153s\u001b[0m 391ms/step - accuracy: 0.9489 - loss: 0.1539 - val_accuracy: 0.8672 - val_loss: 0.3389\n"
          ]
        },
        {
          "output_type": "execute_result",
          "data": {
            "text/plain": [
              "<keras.src.callbacks.history.History at 0x7c3e3c5c9290>"
            ]
          },
          "metadata": {},
          "execution_count": 8
        }
      ]
    },
    {
      "cell_type": "code",
      "source": [
        "def preprocess_text(text):\n",
        "    words = text_to_word_sequence(text)\n",
        "    sequence = [word_index.get(word, 2) for word in words]  # 2 is for unknown words\n",
        "    sequence = pad_sequences([sequence], maxlen=max_len, padding=\"post\")\n",
        "    return sequence\n",
        "\n"
      ],
      "metadata": {
        "id": "XHPa95yDU9XC"
      },
      "execution_count": 16,
      "outputs": []
    },
    {
      "cell_type": "code",
      "source": [
        "def predict_sentiment(review):\n",
        "    processed_review = preprocess_text(review)\n",
        "    prediction = model.predict(processed_review)[0][0]\n",
        "    sentiment = \"Positive\" if prediction > 0.5 else \"Negative\"\n",
        "    return sentiment, prediction"
      ],
      "metadata": {
        "id": "_EqLLCjLQiD1"
      },
      "execution_count": 18,
      "outputs": []
    },
    {
      "cell_type": "code",
      "source": [
        "review_text = \"This movie was fantastic! I really enjoyed it.\"\n",
        "sentiment, confidence = predict_sentiment(review_text)\n",
        "print(f\"Sentiment: {sentiment} (Confidence: {confidence:.2f})\")\n"
      ],
      "metadata": {
        "colab": {
          "base_uri": "https://localhost:8080/"
        },
        "id": "Bb8J9qY0ZKY8",
        "outputId": "66afbcaf-938d-4543-86ab-729ae53fefba"
      },
      "execution_count": 21,
      "outputs": [
        {
          "output_type": "stream",
          "name": "stdout",
          "text": [
            "\u001b[1m1/1\u001b[0m \u001b[32m━━━━━━━━━━━━━━━━━━━━\u001b[0m\u001b[37m\u001b[0m \u001b[1m0s\u001b[0m 321ms/step\n",
            "Sentiment: Positive (Confidence: 0.90)\n"
          ]
        }
      ]
    }
  ]
}